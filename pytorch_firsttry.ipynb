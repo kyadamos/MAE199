{
 "cells": [
  {
   "cell_type": "markdown",
   "metadata": {},
   "source": [
    "# Getting Started: PyTorch"
   ]
  },
  {
   "cell_type": "markdown",
   "metadata": {},
   "source": [
    "Following along with this tutorial: https://pythonprogramming.net/data-deep-learning-neural-network-pytorch/\n",
    "\n",
    "`torch`: Tensor library similar to NumPy\\\n",
    "`torchvision`: Package from PyTorch with computer vision related datasets, model architectures, and image transformations"
   ]
  },
  {
   "cell_type": "markdown",
   "metadata": {},
   "source": [
    "# Importing and Preparing Data:"
   ]
  },
  {
   "cell_type": "code",
   "execution_count": 1,
   "metadata": {},
   "outputs": [],
   "source": [
    "import torch\n",
    "import torchvision\n",
    "from torchvision import transforms, datasets"
   ]
  },
  {
   "cell_type": "markdown",
   "metadata": {},
   "source": [
    "`datasets.MNIST`: Dataset of handwritten numbers. 60,000 samples in the training set, 10,000 samples in the test set.\\\n",
    "`transforms.Compose`: Method that composes multiple transforms together.\\\n",
    "`transforms.ToTensor`: Method that converts a PIL Image or numpy.ndarray (H x W x C) in the range [0, 255] to a torch.FloatTensor of shape (C x H x W) in the range [0.0, 1.0]."
   ]
  },
  {
   "cell_type": "code",
   "execution_count": 2,
   "metadata": {},
   "outputs": [],
   "source": [
    "train = datasets.MNIST(\"\", train=True, download=True,\n",
    "                      transform=transforms.Compose([transforms.ToTensor()]))\n",
    "\n",
    "test = datasets.MNIST(\"\", train=False, download=True,\n",
    "                      transform=transforms.Compose([transforms.ToTensor()]))"
   ]
  },
  {
   "cell_type": "markdown",
   "metadata": {},
   "source": [
    "`trainset` - variable to load data into of size 10\\\n",
    "`torch.utils.data.DataLoader` - Dataset and sampler. Provides an interable over the dataset.\n",
    "\n",
    "`train` - Dataset to iterate over.\n",
    "`batch_size` - How many samples per batch to load.\\\n",
    "`shuffle` (Boolean) - Randomly shuffle input data to eliminate patterns in original dataset."
   ]
  },
  {
   "cell_type": "code",
   "execution_count": 3,
   "metadata": {},
   "outputs": [],
   "source": [
    "trainset = torch.utils.data.DataLoader(train, batch_size=10, shuffle=True)\n",
    "testset = torch.utils.data.DataLoader(train, batch_size=10, shuffle=False)"
   ]
  },
  {
   "cell_type": "code",
   "execution_count": 4,
   "metadata": {},
   "outputs": [
    {
     "name": "stdout",
     "output_type": "stream",
     "text": [
      "[tensor([[[[0., 0., 0.,  ..., 0., 0., 0.],\n",
      "          [0., 0., 0.,  ..., 0., 0., 0.],\n",
      "          [0., 0., 0.,  ..., 0., 0., 0.],\n",
      "          ...,\n",
      "          [0., 0., 0.,  ..., 0., 0., 0.],\n",
      "          [0., 0., 0.,  ..., 0., 0., 0.],\n",
      "          [0., 0., 0.,  ..., 0., 0., 0.]]],\n",
      "\n",
      "\n",
      "        [[[0., 0., 0.,  ..., 0., 0., 0.],\n",
      "          [0., 0., 0.,  ..., 0., 0., 0.],\n",
      "          [0., 0., 0.,  ..., 0., 0., 0.],\n",
      "          ...,\n",
      "          [0., 0., 0.,  ..., 0., 0., 0.],\n",
      "          [0., 0., 0.,  ..., 0., 0., 0.],\n",
      "          [0., 0., 0.,  ..., 0., 0., 0.]]],\n",
      "\n",
      "\n",
      "        [[[0., 0., 0.,  ..., 0., 0., 0.],\n",
      "          [0., 0., 0.,  ..., 0., 0., 0.],\n",
      "          [0., 0., 0.,  ..., 0., 0., 0.],\n",
      "          ...,\n",
      "          [0., 0., 0.,  ..., 0., 0., 0.],\n",
      "          [0., 0., 0.,  ..., 0., 0., 0.],\n",
      "          [0., 0., 0.,  ..., 0., 0., 0.]]],\n",
      "\n",
      "\n",
      "        ...,\n",
      "\n",
      "\n",
      "        [[[0., 0., 0.,  ..., 0., 0., 0.],\n",
      "          [0., 0., 0.,  ..., 0., 0., 0.],\n",
      "          [0., 0., 0.,  ..., 0., 0., 0.],\n",
      "          ...,\n",
      "          [0., 0., 0.,  ..., 0., 0., 0.],\n",
      "          [0., 0., 0.,  ..., 0., 0., 0.],\n",
      "          [0., 0., 0.,  ..., 0., 0., 0.]]],\n",
      "\n",
      "\n",
      "        [[[0., 0., 0.,  ..., 0., 0., 0.],\n",
      "          [0., 0., 0.,  ..., 0., 0., 0.],\n",
      "          [0., 0., 0.,  ..., 0., 0., 0.],\n",
      "          ...,\n",
      "          [0., 0., 0.,  ..., 0., 0., 0.],\n",
      "          [0., 0., 0.,  ..., 0., 0., 0.],\n",
      "          [0., 0., 0.,  ..., 0., 0., 0.]]],\n",
      "\n",
      "\n",
      "        [[[0., 0., 0.,  ..., 0., 0., 0.],\n",
      "          [0., 0., 0.,  ..., 0., 0., 0.],\n",
      "          [0., 0., 0.,  ..., 0., 0., 0.],\n",
      "          ...,\n",
      "          [0., 0., 0.,  ..., 0., 0., 0.],\n",
      "          [0., 0., 0.,  ..., 0., 0., 0.],\n",
      "          [0., 0., 0.,  ..., 0., 0., 0.]]]]), tensor([4, 0, 9, 4, 4, 6, 5, 9, 1, 2])]\n"
     ]
    }
   ],
   "source": [
    "for data in trainset:\n",
    "    print(data)\n",
    "    break"
   ]
  },
  {
   "cell_type": "markdown",
   "metadata": {},
   "source": [
    "`x` (variable) - Features, or **input data**, that we want to predict. Here, it is a tensor of tensors.\\\n",
    "`y` (variable) - Labels, or classification **outputs**, that the neural network is assigning to the input data, `x`.\n",
    "\n",
    "Sees `x`, calls it `y`."
   ]
  },
  {
   "cell_type": "code",
   "execution_count": 5,
   "metadata": {
    "scrolled": true
   },
   "outputs": [
    {
     "name": "stdout",
     "output_type": "stream",
     "text": [
      "tensor(4)\n"
     ]
    }
   ],
   "source": [
    "x, y = data[0][0], data[1][0]\n",
    "\n",
    "print(y)"
   ]
  },
  {
   "cell_type": "markdown",
   "metadata": {},
   "source": [
    "image is 28x28, but data is a 1x28x28"
   ]
  },
  {
   "cell_type": "code",
   "execution_count": 6,
   "metadata": {
    "scrolled": true
   },
   "outputs": [
    {
     "name": "stdout",
     "output_type": "stream",
     "text": [
      "torch.Size([1, 28, 28])\n"
     ]
    }
   ],
   "source": [
    "print(data[0][0].shape)"
   ]
  },
  {
   "cell_type": "markdown",
   "metadata": {},
   "source": [
    "## Scaling/Normalizing, Flattening, and some Visualization"
   ]
  },
  {
   "cell_type": "markdown",
   "metadata": {},
   "source": [
    "**Scaling/Normalization:** Typically, our data will not all be the same or correct sizes. We want all input data to be in the range of 0 to 1, inclusive, so we have to **scale** the values of each pixel in our data to be in this range.\n",
    "\n",
    "`data.view(len,height)` is used to reshape our data. Plotting our data as a 1x28x28 will throw an error, so we use `.view(28,28)` to reshape our data as a 28x28 and `plt.imshow()` to visualize our 28x28 image.\n",
    "\n",
    "**Flatten:** We also have to feed our neural network the data in the form of a vector, so we have to flatten our data from a 1x28x28 into a (1D) vector. We can also do this with `data.view(1,784)`."
   ]
  },
  {
   "cell_type": "code",
   "execution_count": 7,
   "metadata": {},
   "outputs": [
    {
     "name": "stdout",
     "output_type": "stream",
     "text": [
      "Data values of the fourth row of the image are: {tensor([0.0000, 0.0000, 0.0000, 0.0000, 0.0000, 0.0000, 0.0000, 0.0000, 0.0000,\n",
      "        0.0000, 0.0000, 0.1412, 0.9451, 0.8588, 0.0980, 0.0000, 0.0000, 0.0000,\n",
      "        0.0000, 0.0000, 0.0000, 0.0000, 0.0000, 0.0000, 0.0000, 0.0000, 0.0000,\n",
      "        0.0000])}\n"
     ]
    },
    {
     "data": {
      "image/png": "[encoded data removed]",
      "text/plain": [
       "<Figure size 432x288 with 1 Axes>"
      ]
     },
     "metadata": {
      "needs_background": "light"
     },
     "output_type": "display_data"
    }
   ],
   "source": [
    "import matplotlib.pyplot as plt\n",
    "\n",
    "plt.imshow(data[0][0].view(28,28))\n",
    "print(\"Data values of the fourth row of the image are:\",\\\n",
    "      {data[0][0][0][4]})"
   ]
  },
  {
   "cell_type": "markdown",
   "metadata": {},
   "source": [
    "We can see that the values equal 0 for the pixels that are not part of the number, and they are equal to a value in the range of (0,1] when the pixel is part of the number. Because these pixel values are in the range of [0,1], rather than typical RGB values (3-tuple/triple of values [0,255]), we know that our data is already scaled!"
   ]
  },
  {
   "cell_type": "markdown",
   "metadata": {},
   "source": [
    "### Checking for Balance:"
   ]
  },
  {
   "cell_type": "markdown",
   "metadata": {},
   "source": [
    "**Balancing:** We should make sure that our dataset includes an equal amount of each class. With 60,000 samples and 10 different classes (0-9), we would want 6,000 samples of each number.\\\n",
    "*Otherwise, our classifier would learn that it could be correct a majority of the time by choosing the class with the highest number of samples.*\n",
    "\n",
    "To figure out how balanced our data is, we can iterate over our dataset and count how many samples of each class we have."
   ]
  },
  {
   "cell_type": "code",
   "execution_count": 8,
   "metadata": {},
   "outputs": [
    {
     "name": "stdout",
     "output_type": "stream",
     "text": [
      "{0: 5923, 1: 6742, 2: 5958, 3: 6131, 4: 5842, 5: 5421, 6: 5918, 7: 6265, 8: 5851, 9: 5949}\n",
      "0: 9.871666666666666%\n",
      "1: 11.236666666666666%\n",
      "2: 9.93%\n",
      "3: 10.218333333333334%\n",
      "4: 9.736666666666666%\n",
      "5: 9.035%\n",
      "6: 9.863333333333333%\n",
      "7: 10.441666666666666%\n",
      "8: 9.751666666666667%\n",
      "9: 9.915000000000001%\n"
     ]
    }
   ],
   "source": [
    "tot = 0\n",
    "numbers = {0:0, 1:0, 2:0, 3:0, 4:0, 5:0, 6:0, 7:0, 8:0, 9:0}\n",
    "\n",
    "for data in trainset:\n",
    "    xs, ys = data\n",
    "    for y in ys:\n",
    "        numbers[int(y)] += 1\n",
    "        tot += 1\n",
    "        \n",
    "print(numbers)\n",
    "\n",
    "for i in numbers:\n",
    "    print(f\"{i}: {numbers[i]/tot*100.0}%\")"
   ]
  },
  {
   "cell_type": "markdown",
   "metadata": {},
   "source": [
    "It's balanced enough because guessing the same number would give us 11% at best and 9% at worst. If the distribution were greater (like a 30% difference), then we'd have trouble training."
   ]
  },
  {
   "cell_type": "markdown",
   "metadata": {},
   "source": [
    "# Creating Neural Network"
   ]
  },
  {
   "cell_type": "markdown",
   "metadata": {},
   "source": []
  },
  {
   "cell_type": "code",
   "execution_count": 9,
   "metadata": {},
   "outputs": [],
   "source": [
    "import torch.nn as nn\n",
    "import torch.nn.functional as F"
   ]
  },
  {
   "cell_type": "markdown",
   "metadata": {},
   "source": [
    "`fc1`: Variable for our first fully connected layer. Input is our vector of feature values, which will be a flattened 28p x 28p tensor, i.e. a vector of 784pixels, and our output can be any value we want, but 64 is nice.\\\n",
    "`fc2`, `fc3` and `fc4` inputs are 64 because the size of the output at the layer before it is 64. The output of `fc4` is 10 because there are 10 classes of numbers that it will output.\n",
    "\n",
    "\n",
    "`nn.Linear`: Fully connected layer. Convolutional layer is `nn.Conv`.\n",
    "\n",
    "`forward()`: is the method where we define how the data flows through the layers we've defined. The first parameter is `self`, or the class that we've instantiated, and the second parameter is `x`, or the input data.\n",
    "\n",
    "`F.relu()`: Rectified Linear activation function. Tells us whether the neuron is activated/firing by the value of its output (the second value).\n",
    "\n",
    "`F.log_softmax(x, dim=1)`: log_softmax is a popular choice to use as the final activation function for a classification network. This normalizes the output `x` into a probability distribution over the output classes `dim=1`. If we used `dim=0`, we'd normalize the data over the batches, rather than the classes."
   ]
  },
  {
   "cell_type": "code",
   "execution_count": 10,
   "metadata": {},
   "outputs": [
    {
     "name": "stdout",
     "output_type": "stream",
     "text": [
      "Net(\n",
      "  (fc1): Linear(in_features=784, out_features=64, bias=True)\n",
      "  (fc2): Linear(in_features=64, out_features=64, bias=True)\n",
      "  (fc3): Linear(in_features=64, out_features=64, bias=True)\n",
      "  (fc4): Linear(in_features=64, out_features=10, bias=True)\n",
      ")\n"
     ]
    }
   ],
   "source": [
    "class Net(nn.Module):\n",
    "    def __init__(self):\n",
    "        super().__init__()\n",
    "        self.fc1 = nn.Linear(784, 64)\n",
    "        self.fc2 = nn.Linear(64, 64)\n",
    "        self.fc3 = nn.Linear(64, 64)\n",
    "        self.fc4 = nn.Linear(64, 10)\n",
    "    \n",
    "    def forward(self, x):\n",
    "        x = F.relu(self.fc1(x))\n",
    "        x = F.relu(self.fc2(x))\n",
    "        x = F.relu(self.fc3(x))\n",
    "        x = self.fc4(x)\n",
    "        return F.log_softmax(x, dim=1)\n",
    "        \n",
    "net = Net()\n",
    "print(net)"
   ]
  },
  {
   "cell_type": "markdown",
   "metadata": {},
   "source": [
    "We could also implement some logic into the `forward` method to pass the data into the next layer under particular conditions."
   ]
  },
  {
   "cell_type": "markdown",
   "metadata": {},
   "source": [
    "For example, consider a neural network trying to learn an optimal control policy for a diabetic patient. If the patient were an adolescent, the data could pass through one set of activation functions, but if the patient were an adult, the data might pass through another set of activation functions."
   ]
  },
  {
   "cell_type": "markdown",
   "metadata": {},
   "source": [
    "### Testing the Neural Network with some Random Data\n",
    "\n",
    "Below, we generate some random input data `x` to simulate a 28x28 pixel image."
   ]
  },
  {
   "cell_type": "code",
   "execution_count": 11,
   "metadata": {},
   "outputs": [],
   "source": [
    "x = torch.rand((28,28))"
   ]
  },
  {
   "cell_type": "markdown",
   "metadata": {},
   "source": [
    "Flatten the data to a (-1, 784), then pass it through the neural network with `net()`."
   ]
  },
  {
   "cell_type": "code",
   "execution_count": 12,
   "metadata": {},
   "outputs": [
    {
     "data": {
      "text/plain": [
       "tensor([[-2.2491, -2.2932, -2.3651, -2.2484, -2.1795, -2.3766, -2.4204, -2.2816,\n",
       "         -2.3057, -2.3290]], grad_fn=<LogSoftmaxBackward>)"
      ]
     },
     "execution_count": 12,
     "metadata": {},
     "output_type": "execute_result"
    }
   ],
   "source": [
    "output = net(x.view(-1,784))\n",
    "output"
   ]
  },
  {
   "cell_type": "markdown",
   "metadata": {},
   "source": [
    "This output of a tensor within a tensor is the neural network's probability distribution of the random input values `x` over the 10 different characters, and the gradient function used to obtain these output values."
   ]
  },
  {
   "cell_type": "markdown",
   "metadata": {},
   "source": [
    "# Training"
   ]
  },
  {
   "cell_type": "markdown",
   "metadata": {},
   "source": [
    "`loss_f`: Variable defining our loss function. This tells us the error between our targeted output and our neural network's guess. The target outputs will determine our loss function.\n",
    "- `nn.one_hot`: A class of loss functions. Makes the neural network's guess a scalar and the rest are 0's. For instance, a one_hot vector for inputting a sample of a \"3\" would read:\\\n",
    "[0, 0, 0, 1, 0, 0, 0, 0, 0, 0]\n",
    "\n",
    "- `nn.CrossEntropyLoss()`: Another class of loss functions.\n",
    "\n",
    "`optimizer`: Variable for our neural network's optimizer. Tunes model parameters (like weights) to fit the data.\n",
    "- `optim.Adam()`: Adaptive Momentum optimizer, popular for (???). \n",
    " - `lr()`: The learning rate of our neural network. Determines the magnitude of changes that the optimizer can make at each step, which is proportional to the rate that our model learns. If `lr` too high, it will vary its searches too much and won't improve. If `lr` too low, it might get stuck at a suboptimal solution.\n",
    " - Probably need to use a decaying learning rate. Want to learn quickly, but we still want to improve over time."
   ]
  },
  {
   "cell_type": "code",
   "execution_count": 13,
   "metadata": {},
   "outputs": [],
   "source": [
    "import torch.optim as optim\n",
    "\n",
    "loss_f = nn.CrossEntropyLoss()\n",
    "optimizer = optim.Adam(net.parameters(), lr=0.001)"
   ]
  },
  {
   "cell_type": "markdown",
   "metadata": {},
   "source": [
    "An epoch is one cycle through the full dataset. Too few and our neural network won't fully learn; too many and our neural network will overfit to our \"in-sample data\", meaning it will perform well with the data it had sampled from, but it won't perform well with data outside of these samples."
   ]
  },
  {
   "cell_type": "code",
   "execution_count": 14,
   "metadata": {},
   "outputs": [
    {
     "name": "stdout",
     "output_type": "stream",
     "text": [
      "tensor(0.2071, grad_fn=<NllLossBackward>)\n",
      "tensor(0.3773, grad_fn=<NllLossBackward>)\n",
      "tensor(0.0026, grad_fn=<NllLossBackward>)\n"
     ]
    }
   ],
   "source": [
    "for epoch in range(3): #3 passes over data\n",
    "    for data in trainset: # `data` is a batch of data\n",
    "        x, y = data # x is batch of features, y is batch of targets\n",
    "        net.zero_grad() # gradient = 0 before calculating loss\n",
    "        output = net(x.view(-1,784)) # pass flattened batch through network\n",
    "        loss = F.nll_loss(output, y) # calculate loss and record it\n",
    "        loss.backward() # send loss back through network params\n",
    "        optimizer.step() # tune weights to account for the loss/grad\n",
    "    print(loss)"
   ]
  },
  {
   "cell_type": "code",
   "execution_count": 15,
   "metadata": {},
   "outputs": [
    {
     "name": "stdout",
     "output_type": "stream",
     "text": [
      "Accuracy:  97.532 %\n"
     ]
    }
   ],
   "source": [
    "correct = 0\n",
    "total = 0\n",
    "\n",
    "with torch.no_grad():\n",
    "    for data in trainset:\n",
    "        x, y = data\n",
    "        output = net(x.view(-1,784))\n",
    "        for idx, i in enumerate(output):\n",
    "            if torch.argmax(i) == y[idx]:\n",
    "                correct += 1 #Checking to see if our prediction was correct\n",
    "            total += 1\n",
    "            \n",
    "print(\"Accuracy: \", round(100*correct/total, 3), \"%\")"
   ]
  },
  {
   "cell_type": "markdown",
   "metadata": {},
   "source": [
    "*This accuracy of >95% is relatively uncommon with real data. Be suspicious if this occurs.\n",
    "\n",
    "To check out how it's reading:\n",
    "- We plot the 0th `x[0]` tensor (image) of `x` as a 28x28p image by reshaping it to that size with `view()`.\n",
    "- We can flatten the image again with `view(-1, 784)` and print the neural network's most confident class prediction using `torch.argmax` on the flattened vector of the 0th `x[0]` tensor (image)."
   ]
  },
  {
   "cell_type": "code",
   "execution_count": 16,
   "metadata": {},
   "outputs": [
    {
     "data": {
      "image/png": "[encoded data removed]",
      "text/plain": [
       "<Figure size 432x288 with 1 Axes>"
      ]
     },
     "metadata": {
      "needs_background": "light"
     },
     "output_type": "display_data"
    },
    {
     "name": "stdout",
     "output_type": "stream",
     "text": [
      "tensor(5)\n"
     ]
    }
   ],
   "source": [
    "import matplotlib.pyplot as plt\n",
    "plt.imshow(x[0].view(28,28))\n",
    "plt.show()\n",
    "print(torch.argmax(net(x[0].view(-1,784))))"
   ]
  },
  {
   "cell_type": "markdown",
   "metadata": {},
   "source": [
    "When I did this, the image depicted a 7 and the network classified it as a 7, so I know it's working. If you did this correctly and the neural network gets it wrong, you're pretty unlucky, because we just saw that this neural network was __% accurate from the previous text. Check the other x's, too (x[4], x[10], ...)"
   ]
  },
  {
   "cell_type": "markdown",
   "metadata": {},
   "source": [
    "# Convolutional Neural Networks"
   ]
  },
  {
   "cell_type": "code",
   "execution_count": null,
   "metadata": {},
   "outputs": [],
   "source": []
  }
 ],
 "metadata": {
  "kernelspec": {
   "display_name": "Python 3",
   "language": "python",
   "name": "python3"
  },
  "language_info": {
   "codemirror_mode": {
    "name": "ipython",
    "version": 3
   },
   "file_extension": ".py",
   "mimetype": "text/x-python",
   "name": "python",
   "nbconvert_exporter": "python",
   "pygments_lexer": "ipython3",
   "version": "3.8.6"
  }
 },
 "nbformat": 4,
 "nbformat_minor": 4
}
